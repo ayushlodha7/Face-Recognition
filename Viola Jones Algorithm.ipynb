{
 "cells": [
  {
   "cell_type": "code",
   "execution_count": null,
   "metadata": {},
   "outputs": [],
   "source": [
    "import cv2\n",
    "\n",
    "face_cascade = cv2.CascadeClassifier('cascade_final_1.xml')\n",
    "\n",
    "img = cv2.imread('avengers-endgame.jpg')\n",
    "gray = cv2.cvtColor(img, cv2.COLOR_BGR2GRAY)\n",
    "faces = face_cascade.detectMultiScale(gray,1.1,1)\n",
    "\n",
    "for (x,y,w,h) in faces:\n",
    "    cv2.rectangle(img,(x,y),(x+w,y+h),(255,0,0),2)\n",
    "\n",
    "cv2.imshow('img',img)\n",
    "cv2.waitKey()"
   ]
  },
  {
   "cell_type": "code",
   "execution_count": 9,
   "metadata": {},
   "outputs": [],
   "source": [
    "Max_Width=0\n",
    "Max_Height=0\n",
    "\n",
    "images_train = 8\n",
    "variants = 15\n",
    "\n",
    "for i in range(1, variants+1):\n",
    "    for j in range(1, images_train+1):\n",
    "        if (i<10):\n",
    "            face_image = cv2.cvtColor(cv2.imread(\"train/Subject0\"+str(i)+\" (\" + str(j) + \").jpg\"), cv2.COLOR_RGB2GRAY)\n",
    "        else:\n",
    "            face_image = cv2.cvtColor(cv2.imread(\"train/Subject\"+str(i)+\" (\" + str(j) + \").jpg\"), cv2.COLOR_RGB2GRAY)\n",
    "        faces=face_cascade.detectMultiScale(gray,1.1,1)\n",
    "        for (x,y,w,h) in faces:\n",
    "            cv2.rectangle(img,(x,y),(x+w,y+h),(255,0,0),2)\n",
    "            if (Max_Width<w):\n",
    "                Max_Width=w\n",
    "            if (Max_Height<h):\n",
    "                Max_Height=h\n",
    "for i in range(1, variants+1):\n",
    "    for j in range(images_train, images_train+1+3):\n",
    "        if (i<10):\n",
    "            try:\n",
    "                face_image = cv2.cvtColor(cv2.imread(\"test/Subject0\"+str(i)+\" (\" + str(j) + \").jpg\"), cv2.COLOR_RGB2GRAY)\n",
    "            except:\n",
    "                continue\n",
    "        else:\n",
    "            try:\n",
    "                face_image = cv2.cvtColor(cv2.imread(\"test/Subject\"+str(i)+\" (\" + str(j) + \").jpg\"), cv2.COLOR_RGB2GRAY)\n",
    "            except:\n",
    "                continue\n",
    "        faces=face_cascade.detectMultiScale(gray,1.1,1)\n",
    "        for (x,y,w,h) in faces:\n",
    "            cv2.rectangle(img,(x,y),(x+w,y+h),(255,0,0),2)\n",
    "            if (Max_Width<w):\n",
    "                Max_Width=w\n",
    "            if (Max_Height<h):\n",
    "                Max_Height=h"
   ]
  },
  {
   "cell_type": "code",
   "execution_count": 10,
   "metadata": {},
   "outputs": [
    {
     "data": {
      "text/plain": [
       "104"
      ]
     },
     "execution_count": 10,
     "metadata": {},
     "output_type": "execute_result"
    }
   ],
   "source": [
    "Max_Width"
   ]
  },
  {
   "cell_type": "code",
   "execution_count": 11,
   "metadata": {},
   "outputs": [
    {
     "data": {
      "text/plain": [
       "104"
      ]
     },
     "execution_count": 11,
     "metadata": {},
     "output_type": "execute_result"
    }
   ],
   "source": [
    "Max_Height"
   ]
  },
  {
   "cell_type": "code",
   "execution_count": null,
   "metadata": {},
   "outputs": [],
   "source": []
  }
 ],
 "metadata": {
  "kernelspec": {
   "display_name": "Python 3",
   "language": "python",
   "name": "python3"
  },
  "language_info": {
   "codemirror_mode": {
    "name": "ipython",
    "version": 3
   },
   "file_extension": ".py",
   "mimetype": "text/x-python",
   "name": "python",
   "nbconvert_exporter": "python",
   "pygments_lexer": "ipython3",
   "version": "3.7.4"
  }
 },
 "nbformat": 4,
 "nbformat_minor": 2
}
